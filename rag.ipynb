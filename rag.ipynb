{
 "cells": [
  {
   "cell_type": "code",
   "execution_count": 4,
   "metadata": {},
   "outputs": [],
   "source": [
    "import pandas as pd\n",
    "from llm import llm\n",
    "import ollama\n",
    "import prompt"
   ]
  },
  {
   "cell_type": "code",
   "execution_count": 3,
   "metadata": {},
   "outputs": [
    {
     "name": "stdout",
     "output_type": "stream",
     "text": [
      "Ollama already launched.\n",
      "\n"
     ]
    }
   ],
   "source": [
    "llms = llm()\n",
    "\n",
    "connection = llms.connect()\n",
    "template = prompt.zeroshot()\n"
   ]
  },
  {
   "cell_type": "code",
   "execution_count": 6,
   "metadata": {},
   "outputs": [],
   "source": [
    "question = template.ask(\"Hello world!\")"
   ]
  },
  {
   "cell_type": "code",
   "execution_count": 7,
   "metadata": {},
   "outputs": [
    {
     "data": {
      "text/plain": [
       "{'model': 'mistral',\n",
       " 'created_at': '2024-02-26T11:03:41.4450787Z',\n",
       " 'message': {'role': 'assistant',\n",
       "  'content': ' Hello! It\\'s nice to meet you. How can I help you today? If you have any questions or topics you\\'d like me to write about, just let me know. I\\'m here to assist.\\n\\nHere\\'s a fun fact for you: \"Hello World\" is often used as the first program that computer science students write when they are learning a new programming language. It simply prints out the message \"Hello World\" to the console or screen. It\\'s a simple but important first step in learning how to code.'},\n",
       " 'done': True,\n",
       " 'total_duration': 445115655400,\n",
       " 'load_duration': 19213430300,\n",
       " 'prompt_eval_count': 12,\n",
       " 'prompt_eval_duration': 33790127000,\n",
       " 'eval_count': 113,\n",
       " 'eval_duration': 392116798000}"
      ]
     },
     "execution_count": 7,
     "metadata": {},
     "output_type": "execute_result"
    }
   ],
   "source": [
    "connection.chat(\"mistral\", messages=[question])"
   ]
  },
  {
   "cell_type": "code",
   "execution_count": null,
   "metadata": {},
   "outputs": [],
   "source": []
  }
 ],
 "metadata": {
  "kernelspec": {
   "display_name": "env",
   "language": "python",
   "name": "python3"
  },
  "language_info": {
   "codemirror_mode": {
    "name": "ipython",
    "version": 3
   },
   "file_extension": ".py",
   "mimetype": "text/x-python",
   "name": "python",
   "nbconvert_exporter": "python",
   "pygments_lexer": "ipython3",
   "version": "3.12.2"
  }
 },
 "nbformat": 4,
 "nbformat_minor": 2
}
